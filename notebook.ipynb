{
 "cells": [
  {
   "cell_type": "code",
   "execution_count": 1,
   "metadata": {},
   "outputs": [],
   "source": [
    "import numpy as np\n",
    "import matplotlib.pyplot as plt\n",
    "import pandas as pd\n",
    "import seaborn as sns\n",
    "from sklearn.metrics import r2_score,mean_squared_error,mean_absolute_error,accuracy_score\n",
    "import pickle"
   ]
  },
  {
   "cell_type": "code",
   "execution_count": 3,
   "metadata": {},
   "outputs": [],
   "source": [
    "data=pd.read_csv('evdataset.csv')\n",
    "# data.head()"
   ]
  },
  {
   "cell_type": "code",
   "execution_count": null,
   "metadata": {},
   "outputs": [],
   "source": [
    "# data.describe()"
   ]
  },
  {
   "cell_type": "code",
   "execution_count": 4,
   "metadata": {},
   "outputs": [
    {
     "data": {
      "text/plain": [
       "Electric Range                 1.000000\n",
       "Combined - Mild Weather        0.999340\n",
       "Combined - Cold Weather        0.999298\n",
       "Highway - Cold Weather         0.999215\n",
       "Highway - Mild Weather         0.998401\n",
       "City - Mild Weather            0.998262\n",
       "City - Cold Weather            0.995611\n",
       "Battery Capacity               0.863062\n",
       "Top Speed                      0.706707\n",
       "Fastcharge Speed               0.701595\n",
       "Total Power                    0.637401\n",
       "Total Torque                   0.614073\n",
       "Charge Speed                   0.415019\n",
       "Charge Power                   0.398395\n",
       "Width                          0.277975\n",
       "Gross Vehicle Weight (GVWR)    0.269258\n",
       "Length                         0.219826\n",
       "id                             0.128289\n",
       "Wheelbase                      0.061227\n",
       "Cargo Volume                  -0.145220\n",
       "Max. Payload                  -0.373626\n",
       "Seats                         -0.500843\n",
       "Height                        -0.540106\n",
       "Acceleration 0 - 100 km/h     -0.708172\n",
       "Name: Electric Range, dtype: float64"
      ]
     },
     "execution_count": 4,
     "metadata": {},
     "output_type": "execute_result"
    }
   ],
   "source": [
    "corr_matrix = data.corr()\n",
    "corr_matrix[\"Electric Range\"].sort_values(ascending=False)"
   ]
  },
  {
   "cell_type": "code",
   "execution_count": 5,
   "metadata": {},
   "outputs": [],
   "source": [
    "data.replace({'Drive':{'Rear':2,'Front':0,'AWD':1}},inplace=True)"
   ]
  }
 ],
 "metadata": {
  "kernelspec": {
   "display_name": "base",
   "language": "python",
   "name": "python3"
  },
  "language_info": {
   "codemirror_mode": {
    "name": "ipython",
    "version": 3
   },
   "file_extension": ".py",
   "mimetype": "text/x-python",
   "name": "python",
   "nbconvert_exporter": "python",
   "pygments_lexer": "ipython3",
   "version": "3.9.13"
  },
  "orig_nbformat": 4
 },
 "nbformat": 4,
 "nbformat_minor": 2
}
